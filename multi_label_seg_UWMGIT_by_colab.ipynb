{
  "nbformat": 4,
  "nbformat_minor": 0,
  "metadata": {
    "colab": {
      "provenance": []
    },
    "kernelspec": {
      "name": "python3",
      "display_name": "Python 3"
    },
    "language_info": {
      "name": "python"
    },
    "accelerator": "GPU",
    "gpuClass": "standard"
  },
  "cells": [
    {
      "cell_type": "code",
      "source": [
        "# 테스트 이미지에 imagecodec이 필요한 이미지가 있어서 설치 후 런타임다시시작 \n",
        "!pip install imagecodecs"
      ],
      "metadata": {
        "id": "HGRYCpwWCWx0"
      },
      "execution_count": null,
      "outputs": []
    },
    {
      "cell_type": "code",
      "source": [
        "from google.colab import drive\n",
        "drive.mount('/content/drive')"
      ],
      "metadata": {
        "id": "x4QnwQjHCWv5"
      },
      "execution_count": null,
      "outputs": []
    },
    {
      "cell_type": "code",
      "source": [
        "# kaggle API로 데이터를 다운로드합니다.\n",
        "# kaggle token을 업로드해야합니다 -> 캐글홈페이지 -> 우측상단 아이콘 누르고 your proflie -> Account -> API Create New API Token -> kaggle.json파일 다운로드후 업로드합니다.\n",
        "\n",
        "from google.colab import files\n",
        "kaggle_token = files.upload()\n",
        "\n",
        "!pip install -q kaggle\n",
        "!mkdir -p ~/.kaggle\n",
        "!cp kaggle.json ~/.kaggle\n",
        "!chmod 600 /root/.kaggle/kaggle.json"
      ],
      "metadata": {
        "id": "5cRShCxCCWtu"
      },
      "execution_count": null,
      "outputs": []
    }
  ]
}